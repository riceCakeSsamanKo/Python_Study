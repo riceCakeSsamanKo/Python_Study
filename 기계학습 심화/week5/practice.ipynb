{
 "cells": [
  {
   "cell_type": "code",
   "id": "initial_id",
   "metadata": {
    "collapsed": true,
    "ExecuteTime": {
     "end_time": "2024-04-09T07:07:42.340803Z",
     "start_time": "2024-04-09T07:07:42.335700Z"
    }
   },
   "source": [
    "import torch\n",
    "import numpy as np"
   ],
   "outputs": [],
   "execution_count": 77
  },
  {
   "metadata": {
    "ExecuteTime": {
     "end_time": "2024-04-09T07:07:42.372410Z",
     "start_time": "2024-04-09T07:07:42.366997Z"
    }
   },
   "cell_type": "code",
   "source": [
    "data = [[1,2],[3,4]]\n",
    "torch.tensor(data)"
   ],
   "id": "771762d22066c936",
   "outputs": [
    {
     "data": {
      "text/plain": [
       "tensor([[1, 2],\n",
       "        [3, 4]])"
      ]
     },
     "execution_count": 78,
     "metadata": {},
     "output_type": "execute_result"
    }
   ],
   "execution_count": 78
  },
  {
   "metadata": {
    "ExecuteTime": {
     "end_time": "2024-04-09T07:07:42.388529Z",
     "start_time": "2024-04-09T07:07:42.383162Z"
    }
   },
   "cell_type": "code",
   "source": [
    "x_np = torch.tensor(np.array([[1,2,3,4],[5,6,7,8]]))\n",
    "x_np"
   ],
   "id": "29c9ff884c31caae",
   "outputs": [
    {
     "data": {
      "text/plain": [
       "tensor([[1, 2, 3, 4],\n",
       "        [5, 6, 7, 8]])"
      ]
     },
     "execution_count": 79,
     "metadata": {},
     "output_type": "execute_result"
    }
   ],
   "execution_count": 79
  },
  {
   "metadata": {
    "ExecuteTime": {
     "end_time": "2024-04-09T07:07:42.399409Z",
     "start_time": "2024-04-09T07:07:42.395173Z"
    }
   },
   "cell_type": "code",
   "source": "x_np.size()",
   "id": "116cbad802201f42",
   "outputs": [
    {
     "data": {
      "text/plain": [
       "torch.Size([2, 4])"
      ]
     },
     "execution_count": 80,
     "metadata": {},
     "output_type": "execute_result"
    }
   ],
   "execution_count": 80
  },
  {
   "metadata": {
    "ExecuteTime": {
     "end_time": "2024-04-09T07:07:42.412566Z",
     "start_time": "2024-04-09T07:07:42.409468Z"
    }
   },
   "cell_type": "code",
   "source": "x_np.dtype",
   "id": "8dd5b80d2d224ee8",
   "outputs": [
    {
     "data": {
      "text/plain": [
       "torch.int64"
      ]
     },
     "execution_count": 81,
     "metadata": {},
     "output_type": "execute_result"
    }
   ],
   "execution_count": 81
  },
  {
   "metadata": {
    "ExecuteTime": {
     "end_time": "2024-04-09T07:07:42.426315Z",
     "start_time": "2024-04-09T07:07:42.423612Z"
    }
   },
   "cell_type": "code",
   "source": "x_np.device",
   "id": "449bdb520af46aba",
   "outputs": [
    {
     "data": {
      "text/plain": [
       "device(type='cpu')"
      ]
     },
     "execution_count": 82,
     "metadata": {},
     "output_type": "execute_result"
    }
   ],
   "execution_count": 82
  },
  {
   "metadata": {
    "ExecuteTime": {
     "end_time": "2024-04-09T07:07:42.430763Z",
     "start_time": "2024-04-09T07:07:42.427983Z"
    }
   },
   "cell_type": "code",
   "source": [
    "if torch.cuda.is_available(): #gpu 있나 확인\n",
    "    x_data = x_np.to('cuda')"
   ],
   "id": "bedbaa3a0f0d00ca",
   "outputs": [],
   "execution_count": 83
  },
  {
   "metadata": {
    "ExecuteTime": {
     "end_time": "2024-04-09T07:07:42.441096Z",
     "start_time": "2024-04-09T07:07:42.438304Z"
    }
   },
   "cell_type": "code",
   "source": [
    "import torch\n",
    "from torch import nn\n",
    "from torch.utils.data import DataLoader\n",
    "from torchvision import datasets\n",
    "from torchvision.transforms import ToTensor"
   ],
   "id": "b50436fb46cc39d4",
   "outputs": [],
   "execution_count": 84
  },
  {
   "metadata": {
    "ExecuteTime": {
     "end_time": "2024-04-09T07:07:42.548135Z",
     "start_time": "2024-04-09T07:07:42.462673Z"
    }
   },
   "cell_type": "code",
   "source": [
    "# 공개 데이터셋에서 학습 데이터를 내려받습니다.\n",
    "training_data = datasets.FashionMNIST(\n",
    "    root=\"data\",\n",
    "    train=True,\n",
    "    download=True,\n",
    "    transform=ToTensor(),\n",
    ")\n",
    "\n",
    "# 공개 데이터셋에서 테스트 데이터를 내려받습니다.\n",
    "test_data = datasets.FashionMNIST(\n",
    "    root=\"data\",\n",
    "    train=False,\n",
    "    download=True,\n",
    "    transform=ToTensor(),\n",
    ")"
   ],
   "id": "fbe63694870cdcbe",
   "outputs": [],
   "execution_count": 85
  },
  {
   "metadata": {
    "ExecuteTime": {
     "end_time": "2024-04-09T07:07:42.560285Z",
     "start_time": "2024-04-09T07:07:42.549908Z"
    }
   },
   "cell_type": "code",
   "source": [
    "batch_size = 64\n",
    "\n",
    "# 데이터로더를 생성합니다.\n",
    "train_dataloader = DataLoader(training_data, batch_size=batch_size)\n",
    "test_dataloader = DataLoader(test_data, batch_size=batch_size)\n",
    "\n",
    "for X, y in test_dataloader:\n",
    "    print(f\"Shape of X [N, C, H, W]: {X.shape}\")\n",
    "    print(f\"Shape of y: {y.shape} {y.dtype}\")\n",
    "    break"
   ],
   "id": "d79152bae923b19a",
   "outputs": [
    {
     "name": "stdout",
     "output_type": "stream",
     "text": [
      "Shape of X [N, C, H, W]: torch.Size([64, 1, 28, 28])\n",
      "Shape of y: torch.Size([64]) torch.int64\n"
     ]
    }
   ],
   "execution_count": 86
  },
  {
   "metadata": {
    "ExecuteTime": {
     "end_time": "2024-04-09T07:07:42.610750Z",
     "start_time": "2024-04-09T07:07:42.562330Z"
    }
   },
   "cell_type": "code",
   "source": [
    "# 학습에 사용할 CPU나 GPU, MPS 장치를 얻습니다.\n",
    "device = (\n",
    "    \"cuda\"\n",
    "    if torch.cuda.is_available()\n",
    "    else \"mps\"\n",
    "    if torch.backends.mps.is_available()\n",
    "    else \"cpu\"\n",
    ")\n",
    "print(f\"Using {device} device\")\n",
    "\n",
    "# 모델을 정의합니다.\n",
    "class NeuralNetwork(nn.Module):\n",
    "    def __init__(self):\n",
    "        super().__init__()\n",
    "        self.flatten = nn.Flatten()\n",
    "        self.linear_relu_stack = nn.Sequential(\n",
    "            nn.Linear(28*28, 512),\n",
    "            nn.ReLU(),\n",
    "            nn.Linear(512, 512),\n",
    "            nn.ReLU(),\n",
    "            nn.Linear(512, 10)\n",
    "        )\n",
    "\n",
    "    def forward(self, x):\n",
    "        x = self.flatten(x)\n",
    "        logits = self.linear_relu_stack(x)\n",
    "        return logits\n",
    "\n",
    "model = NeuralNetwork().to(device)\n",
    "print(model)"
   ],
   "id": "4953d234551246a9",
   "outputs": [
    {
     "name": "stdout",
     "output_type": "stream",
     "text": [
      "Using mps device\n",
      "NeuralNetwork(\n",
      "  (flatten): Flatten(start_dim=1, end_dim=-1)\n",
      "  (linear_relu_stack): Sequential(\n",
      "    (0): Linear(in_features=784, out_features=512, bias=True)\n",
      "    (1): ReLU()\n",
      "    (2): Linear(in_features=512, out_features=512, bias=True)\n",
      "    (3): ReLU()\n",
      "    (4): Linear(in_features=512, out_features=10, bias=True)\n",
      "  )\n",
      ")\n"
     ]
    }
   ],
   "execution_count": 87
  },
  {
   "metadata": {
    "ExecuteTime": {
     "end_time": "2024-04-09T07:07:42.618492Z",
     "start_time": "2024-04-09T07:07:42.613493Z"
    }
   },
   "cell_type": "code",
   "source": "loss_fn = nn.CrossEntropyLoss()",
   "id": "58b0ecea70895860",
   "outputs": [],
   "execution_count": 88
  },
  {
   "metadata": {
    "ExecuteTime": {
     "end_time": "2024-04-09T07:07:42.627966Z",
     "start_time": "2024-04-09T07:07:42.625543Z"
    }
   },
   "cell_type": "code",
   "source": "lr = 1e-3",
   "id": "188eca5d4d1572a1",
   "outputs": [],
   "execution_count": 89
  },
  {
   "metadata": {
    "ExecuteTime": {
     "end_time": "2024-04-09T07:07:42.663988Z",
     "start_time": "2024-04-09T07:07:42.659791Z"
    }
   },
   "cell_type": "code",
   "source": "optimizer = torch.optim.Adam(model.parameters(), lr=lr)  #Adam 많이 사용 lr은 10^-3 많이 사용",
   "id": "3fad0f4ad72d6775",
   "outputs": [],
   "execution_count": 90
  },
  {
   "metadata": {},
   "cell_type": "markdown",
   "source": "",
   "id": "9af1acf70e5d678d"
  },
  {
   "metadata": {
    "ExecuteTime": {
     "end_time": "2024-04-09T07:07:42.726679Z",
     "start_time": "2024-04-09T07:07:42.721949Z"
    }
   },
   "cell_type": "code",
   "source": [
    "def train(dataloader, model, loss_fn, optimizer):\n",
    "    size = len(dataloader.dataset)\n",
    "    for batch, (X, y) in enumerate(dataloader):\n",
    "        X, y = X.to(device), y.to(device)  # 데이터를 device(gpu있다면 gpu)로 보내기\n",
    "\n",
    "        # 예측 오류 계산\n",
    "        pred = model(X)\n",
    "        loss = loss_fn(pred, y)\n",
    "\n",
    "        # 역전파\n",
    "        optimizer.zero_grad()\n",
    "        loss.backward()\n",
    "        optimizer.step()\n",
    "\n",
    "        if batch % 100 == 0:\n",
    "            loss, current = loss.item(), (batch + 1) * len(X)\n",
    "            print(f\"loss: {loss:>7f}  [{current:>5d}/{size:>5d}]\")"
   ],
   "id": "f9bd967c7512aed6",
   "outputs": [],
   "execution_count": 91
  },
  {
   "metadata": {
    "ExecuteTime": {
     "end_time": "2024-04-09T07:07:42.773330Z",
     "start_time": "2024-04-09T07:07:42.768551Z"
    }
   },
   "cell_type": "code",
   "source": [
    "def test(dataloader, model, loss_fn):\n",
    "    size = len(dataloader.dataset)\n",
    "    num_batches = len(dataloader)\n",
    "    model.eval()\n",
    "    test_loss, correct = 0, 0\n",
    "    with torch.no_grad():\n",
    "        for X, y in dataloader:\n",
    "            X, y = X.to(device), y.to(device)\n",
    "            pred = model(X)\n",
    "            test_loss += loss_fn(pred, y).item()\n",
    "            correct += (pred.argmax(1) == y).type(torch.float).sum().item()\n",
    "    test_loss /= num_batches\n",
    "    correct /= size\n",
    "    print(f\"Test Error: \\n Accuracy: {(100*correct):>0.1f}%, Avg loss: {test_loss:>8f} \\n\")"
   ],
   "id": "d1db6a5dfec11c5c",
   "outputs": [],
   "execution_count": 92
  },
  {
   "metadata": {
    "ExecuteTime": {
     "end_time": "2024-04-09T07:08:21.046411Z",
     "start_time": "2024-04-09T07:07:42.814433Z"
    }
   },
   "cell_type": "code",
   "source": [
    "epochs = 5\n",
    "for t in range(epochs):\n",
    "    print(f\"Epoch {t+1}\\n-------------------------------\")\n",
    "    train(train_dataloader, model, loss_fn, optimizer)\n",
    "    test(test_dataloader, model, loss_fn)\n",
    "print(\"Done!\")"
   ],
   "id": "59024e494dea0a6c",
   "outputs": [
    {
     "name": "stdout",
     "output_type": "stream",
     "text": [
      "Epoch 1\n",
      "-------------------------------\n",
      "loss: 2.301394  [   64/60000]\n",
      "loss: 0.553277  [ 6464/60000]\n",
      "loss: 0.397487  [12864/60000]\n",
      "loss: 0.512452  [19264/60000]\n",
      "loss: 0.424594  [25664/60000]\n",
      "loss: 0.433044  [32064/60000]\n",
      "loss: 0.367423  [38464/60000]\n",
      "loss: 0.524778  [44864/60000]\n",
      "loss: 0.478167  [51264/60000]\n",
      "loss: 0.553111  [57664/60000]\n",
      "Test Error: \n",
      " Accuracy: 84.4%, Avg loss: 0.428245 \n",
      "\n",
      "Epoch 2\n",
      "-------------------------------\n",
      "loss: 0.276076  [   64/60000]\n",
      "loss: 0.344783  [ 6464/60000]\n",
      "loss: 0.278333  [12864/60000]\n",
      "loss: 0.384768  [19264/60000]\n",
      "loss: 0.399208  [25664/60000]\n",
      "loss: 0.370160  [32064/60000]\n",
      "loss: 0.303759  [38464/60000]\n",
      "loss: 0.456206  [44864/60000]\n",
      "loss: 0.374818  [51264/60000]\n",
      "loss: 0.472940  [57664/60000]\n",
      "Test Error: \n",
      " Accuracy: 85.4%, Avg loss: 0.394552 \n",
      "\n",
      "Epoch 3\n",
      "-------------------------------\n",
      "loss: 0.232632  [   64/60000]\n",
      "loss: 0.326471  [ 6464/60000]\n",
      "loss: 0.234928  [12864/60000]\n",
      "loss: 0.342467  [19264/60000]\n",
      "loss: 0.420758  [25664/60000]\n",
      "loss: 0.330335  [32064/60000]\n",
      "loss: 0.276435  [38464/60000]\n",
      "loss: 0.422366  [44864/60000]\n",
      "loss: 0.319920  [51264/60000]\n",
      "loss: 0.411618  [57664/60000]\n",
      "Test Error: \n",
      " Accuracy: 85.9%, Avg loss: 0.382155 \n",
      "\n",
      "Epoch 4\n",
      "-------------------------------\n",
      "loss: 0.220641  [   64/60000]\n",
      "loss: 0.292154  [ 6464/60000]\n",
      "loss: 0.208170  [12864/60000]\n",
      "loss: 0.275996  [19264/60000]\n",
      "loss: 0.419975  [25664/60000]\n",
      "loss: 0.309448  [32064/60000]\n",
      "loss: 0.254731  [38464/60000]\n",
      "loss: 0.345661  [44864/60000]\n",
      "loss: 0.312529  [51264/60000]\n",
      "loss: 0.354819  [57664/60000]\n",
      "Test Error: \n",
      " Accuracy: 86.7%, Avg loss: 0.359007 \n",
      "\n",
      "Epoch 5\n",
      "-------------------------------\n",
      "loss: 0.190157  [   64/60000]\n",
      "loss: 0.262357  [ 6464/60000]\n",
      "loss: 0.190561  [12864/60000]\n",
      "loss: 0.235074  [19264/60000]\n",
      "loss: 0.316959  [25664/60000]\n",
      "loss: 0.376357  [32064/60000]\n",
      "loss: 0.228753  [38464/60000]\n",
      "loss: 0.330801  [44864/60000]\n",
      "loss: 0.286178  [51264/60000]\n",
      "loss: 0.305794  [57664/60000]\n",
      "Test Error: \n",
      " Accuracy: 86.9%, Avg loss: 0.356677 \n",
      "\n",
      "Done!\n"
     ]
    }
   ],
   "execution_count": 93
  },
  {
   "metadata": {},
   "cell_type": "code",
   "outputs": [],
   "execution_count": null,
   "source": [
    "# 모델 저장하기\n",
    "# torch.save(model,'model.pth') # 모델 전체 저장하기\n",
    "# torch.save(model.state_dict(), \"model.pt\") # 모델의 구조가 아닌 학습한 weight만 저장함"
   ],
   "id": "acb08ccb3db9a709"
  },
  {
   "metadata": {},
   "cell_type": "code",
   "outputs": [],
   "execution_count": null,
   "source": [
    "# 모델 불러오기\n",
    "# model = NeuralNetwork().to(device)\n",
    "# model.load_state_dict(torch.load(\"model.pth\"))"
   ],
   "id": "e743f9a656c01fd0"
  },
  {
   "metadata": {},
   "cell_type": "code",
   "outputs": [],
   "execution_count": null,
   "source": "",
   "id": "b3cad7b27efca871"
  },
  {
   "metadata": {},
   "cell_type": "markdown",
   "source": [
    "# 딥러닝 구조\n",
    "1) 데이터셋 로드\n",
    "2) 네트워크 구조\n",
    "3) loss 함수 \n",
    "4) optimizer\n",
    "5) train\n",
    "6) test"
   ],
   "id": "370531a91c5f912a"
  }
 ],
 "metadata": {
  "kernelspec": {
   "display_name": "Python 3",
   "language": "python",
   "name": "python3"
  },
  "language_info": {
   "codemirror_mode": {
    "name": "ipython",
    "version": 2
   },
   "file_extension": ".py",
   "mimetype": "text/x-python",
   "name": "python",
   "nbconvert_exporter": "python",
   "pygments_lexer": "ipython2",
   "version": "2.7.6"
  }
 },
 "nbformat": 4,
 "nbformat_minor": 5
}
