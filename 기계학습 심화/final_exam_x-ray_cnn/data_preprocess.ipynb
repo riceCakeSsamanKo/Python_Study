{
 "cells": [
  {
   "cell_type": "code",
   "execution_count": 11,
   "metadata": {},
   "outputs": [],
   "source": [
    "import json\n",
    "import os\n",
    "import glob\n",
    "from PIL import Image"
   ]
  },
  {
   "cell_type": "code",
   "execution_count": 12,
   "metadata": {},
   "outputs": [],
   "source": [
    "def convert(size, box):\n",
    "    dw = 1.0 / size[0]\n",
    "    dh = 1.0 / size[1]\n",
    "    x = box[0] + box[2] / 2.0\n",
    "    y = box[1] + box[3] / 2.0\n",
    "    w = box[2]\n",
    "    h = box[3]\n",
    "    x=x*dw\n",
    "    w=w*dw\n",
    "    y=y*dh\n",
    "    h=h*dh\n",
    "    return (x, y, w, h)"
   ]
  },
  {
   "cell_type": "code",
   "execution_count": 19,
   "metadata": {},
   "outputs": [
    {
     "name": "stdout",
     "output_type": "stream",
     "text": [
      "./pidray/train/images/xray_00000.png\n",
      "./pidray/train/images/xray_00001.png\n",
      "./pidray/train/images/xray_00002.png\n",
      "./pidray/train/images/xray_00003.png\n",
      "./pidray/train/images/xray_00004.png\n",
      "./pidray/train/images/xray_00004.png\n",
      "./pidray/train/images/xray_00005.png\n",
      "./pidray/train/images/xray_00006.png\n",
      "./pidray/train/images/xray_00007.png\n",
      "./pidray/train/images/xray_00007.png\n",
      "./pidray/train/images/xray_00008.png\n",
      "./pidray/train/images/xray_00009.png\n",
      "./pidray/train/images/xray_00010.png\n",
      "./pidray/train/images/xray_00011.png\n",
      "./pidray/train/images/xray_00012.png\n",
      "./pidray/train/images/xray_00013.png\n",
      "./pidray/train/images/xray_00014.png\n",
      "./pidray/train/images/xray_00014.png\n",
      "./pidray/train/images/xray_00015.png\n",
      "./pidray/train/images/xray_00016.png\n",
      "./pidray/train/images/xray_00017.png\n",
      "./pidray/train/images/xray_00018.png\n",
      "./pidray/train/images/xray_00019.png\n",
      "./pidray/train/images/xray_00020.png\n",
      "./pidray/train/images/xray_00021.png\n",
      "./pidray/train/images/xray_00022.png\n",
      "./pidray/train/images/xray_00023.png\n",
      "./pidray/train/images/xray_00024.png\n",
      "./pidray/train/images/xray_00025.png\n",
      "./pidray/train/images/xray_00026.png\n",
      "./pidray/train/images/xray_00027.png\n",
      "./pidray/train/images/xray_00028.png\n",
      "./pidray/train/images/xray_00028.png\n",
      "./pidray/train/images/xray_00029.png\n",
      "./pidray/train/images/xray_00030.png\n",
      "./pidray/train/images/xray_00031.png\n",
      "./pidray/train/images/xray_00032.png\n"
     ]
    },
    {
     "ename": "KeyboardInterrupt",
     "evalue": "",
     "output_type": "error",
     "traceback": [
      "\u001b[1;31m---------------------------------------------------------------------------\u001b[0m",
      "\u001b[1;31mKeyboardInterrupt\u001b[0m                         Traceback (most recent call last)",
      "Cell \u001b[1;32mIn[19], line 12\u001b[0m\n\u001b[0;32m     10\u001b[0m img_path \u001b[38;5;241m=\u001b[39m \u001b[38;5;124mf\u001b[39m\u001b[38;5;124m\"\u001b[39m\u001b[38;5;124m./pidray/train/images/xray_\u001b[39m\u001b[38;5;132;01m{\u001b[39;00mimage_id\u001b[38;5;241m.\u001b[39mzfill(\u001b[38;5;241m5\u001b[39m)\u001b[38;5;132;01m}\u001b[39;00m\u001b[38;5;124m.png\u001b[39m\u001b[38;5;124m\"\u001b[39m\n\u001b[0;32m     11\u001b[0m \u001b[38;5;28mprint\u001b[39m(img_path)\n\u001b[1;32m---> 12\u001b[0m img\u001b[38;5;241m=\u001b[39mImage\u001b[38;5;241m.\u001b[39mopen(img_path)\n",
      "File \u001b[1;32me:\\anaconda\\Lib\\site-packages\\PIL\\Image.py:3247\u001b[0m, in \u001b[0;36mopen\u001b[1;34m(fp, mode, formats)\u001b[0m\n\u001b[0;32m   3244\u001b[0m     filename \u001b[38;5;241m=\u001b[39m fp\n\u001b[0;32m   3246\u001b[0m \u001b[38;5;28;01mif\u001b[39;00m filename:\n\u001b[1;32m-> 3247\u001b[0m     fp \u001b[38;5;241m=\u001b[39m builtins\u001b[38;5;241m.\u001b[39mopen(filename, \u001b[38;5;124m\"\u001b[39m\u001b[38;5;124mrb\u001b[39m\u001b[38;5;124m\"\u001b[39m)\n\u001b[0;32m   3248\u001b[0m     exclusive_fp \u001b[38;5;241m=\u001b[39m \u001b[38;5;28;01mTrue\u001b[39;00m\n\u001b[0;32m   3250\u001b[0m \u001b[38;5;28;01mtry\u001b[39;00m:\n",
      "\u001b[1;31mKeyboardInterrupt\u001b[0m: "
     ]
    }
   ],
   "source": [
    "with open(\"E:/pidray/annotations/xray_train.json\") as f:\n",
    "    data=json.load(f)\n",
    "    # print(len(data['annotations'][0]['bbox']))\n",
    "    se=set()\n",
    "    for annotation in data['annotations']:\n",
    "        _class=int(annotation['category_id'])-1\n",
    "        se.add(_class)\n",
    "        bbox=annotation['bbox']\n",
    "        image_id=str(annotation['image_id'])\n",
    "        img_path = f\"./pidray/train/images/xray_{image_id.zfill(5)}.png\"\n",
    "        print(img_path)\n",
    "        img=Image.open(img_path)\n",
    "        width,height=img.size\n",
    "        img.close()\n",
    "        with open(f'./pidray/train/labels/xray_{image_id.zfill(5)}.txt','a') as w:\n",
    "            bbox=convert((width,height),bbox)\n",
    "            w.write(f'{_class} {bbox[0]} {bbox[1]} {bbox[2]} {bbox[3]}\\n')"
   ]
  },
  {
   "cell_type": "code",
   "execution_count": 18,
   "metadata": {},
   "outputs": [],
   "source": [
    "with open(\"E:/pidray/annotations/xray_test_easy.json\") as f:\n",
    "    data = json.load(f)\n",
    "    # print(len(data['annotations'][0]['bbox']))\n",
    "\n",
    "    for annotation in data[\"annotations\"]:\n",
    "        _class = int(annotation[\"category_id\"])-1\n",
    "        bbox = annotation[\"bbox\"]\n",
    "        image_id = str(annotation[\"image_id\"])\n",
    "        img_path = f\"./pidray/test/images/xray_easy{image_id.zfill(5)}.png\"\n",
    "        img=Image.open(img_path)\n",
    "        print(img_path)\n",
    "        width,height=img.size\n",
    "        img.close()\n",
    "        with open(f\"./pidray/test/labels/xray_easy{image_id.zfill(5)}.txt\", \"a\") as w:\n",
    "            bbox=convert((width,height),bbox)\n",
    "            w.write(f\"{_class} {bbox[0]} {bbox[1]} {bbox[2]} {bbox[3]}\\n\")"
   ]
  }
 ],
 "metadata": {
  "kernelspec": {
   "display_name": "yolo",
   "language": "python",
   "name": "python3"
  },
  "language_info": {
   "codemirror_mode": {
    "name": "ipython",
    "version": 3
   },
   "file_extension": ".py",
   "mimetype": "text/x-python",
   "name": "python",
   "nbconvert_exporter": "python",
   "pygments_lexer": "ipython3",
   "version": "3.11.7"
  }
 },
 "nbformat": 4,
 "nbformat_minor": 2
}
